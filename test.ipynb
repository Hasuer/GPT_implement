{
 "cells": [
  {
   "cell_type": "code",
   "execution_count": 2,
   "metadata": {},
   "outputs": [],
   "source": [
    "import torch\n",
    "import torch.nn as nn\n",
    "from torch.nn import functional as F\n",
    "\n",
    "# hyperparameters\n",
    "batch_size = 32 # how many independent sequences will we process in parallel?\n",
    "block_size = 8 # what is the maximum context length for predictions?\n",
    "max_iters = 3000\n",
    "eval_interval = 300\n",
    "learning_rate = 1e-2\n",
    "device = 'cuda:5' if torch.cuda.is_available() else 'cpu'\n",
    "eval_iters = 200\n",
    "# ------------\n",
    "\n",
    "torch.manual_seed(1337)\n",
    "\n",
    "# wget https://raw.githubusercontent.com/karpathy/char-rnn/master/data/tinyshakespeare/input.txt\n",
    "with open('input.txt', 'r', encoding='utf-8') as f:\n",
    "    text = f.read()\n",
    "\n",
    "# here are all the unique characters that occur in this text\n",
    "chars = sorted(list(set(text)))\n",
    "vocab_size = len(chars)\n",
    "# create a mapping from characters to integers\n",
    "stoi = { ch:i for i,ch in enumerate(chars) }\n",
    "itos = { i:ch for i,ch in enumerate(chars) }\n",
    "encode = lambda s: [stoi[c] for c in s] # encoder: take a string, output a list of integers\n",
    "decode = lambda l: ''.join([itos[i] for i in l]) # decoder: take a list of integers, output a string\n",
    "\n",
    "# Train and test splits\n",
    "data = torch.tensor(encode(text), dtype=torch.long)\n",
    "n = int(0.9*len(data)) # first 90% will be train, rest val\n",
    "train_data = data[:n]\n",
    "val_data = data[n:]"
   ]
  },
  {
   "cell_type": "code",
   "execution_count": 15,
   "metadata": {},
   "outputs": [
    {
     "data": {
      "text/plain": [
       "tensor([18, 47, 56,  ..., 43, 56, 43])"
      ]
     },
     "execution_count": 15,
     "metadata": {},
     "output_type": "execute_result"
    }
   ],
   "source": [
    "train_data"
   ]
  },
  {
   "cell_type": "code",
   "execution_count": 18,
   "metadata": {},
   "outputs": [
    {
     "data": {
      "text/plain": [
       "tensor([[35, 43,  1, 39, 56, 43,  1, 52],\n",
       "        [56, 61, 53, 56, 52,  1, 61, 47],\n",
       "        [52,  1, 47, 58, 57, 43, 50, 44],\n",
       "        [23, 17, 10,  0, 28, 39, 50, 43],\n",
       "        [56, 57, 58,  1, 15, 47, 58, 47],\n",
       "        [46, 58, 10,  0, 21,  1, 54, 56],\n",
       "        [39, 52, 42,  8,  0,  0, 25, 13],\n",
       "        [52, 42,  1, 57, 53, 60, 43, 56],\n",
       "        [63,  1, 44, 39, 58, 46, 43, 56],\n",
       "        [58, 57,  6,  1, 40, 59, 58,  1],\n",
       "        [ 0, 32, 47, 40, 43, 56,  1, 47],\n",
       "        [47, 41, 12,  1, 46, 39, 56, 49],\n",
       "        [ 1, 41, 39, 56, 43,  0, 20, 39],\n",
       "        [57,  1, 57, 46, 43,  1, 58, 53],\n",
       "        [41, 50, 53, 57, 43, 42,  1, 47],\n",
       "        [39, 49, 43,  1, 58, 46, 43, 51],\n",
       "        [39, 44, 58, 43, 56, 52, 53, 53],\n",
       "        [10,  0, 25, 63,  1, 50, 47, 44],\n",
       "        [43, 39, 57, 53, 52, 10,  0, 32],\n",
       "        [53, 52,  0, 27, 44,  1, 58, 46],\n",
       "        [52, 58,  8,  0,  0, 15, 27, 30],\n",
       "        [42, 43, 39, 56, 12,  0, 32, 46],\n",
       "        [56, 47, 52, 41, 43,  6,  0, 13],\n",
       "        [53, 61,  1, 52, 53, 58,  8,  1],\n",
       "        [50, 43, 51, 39, 52, 10,  0, 25],\n",
       "        [ 6,  1, 61, 43,  1, 39, 56, 43],\n",
       "        [46, 58, 57,  6,  1, 58, 46, 53],\n",
       "        [44, 50, 39, 58, 58, 43, 56,  0],\n",
       "        [52, 53, 61,  1, 42, 43, 52, 47],\n",
       "        [26, 21, 33, 31, 10,  0,  5, 32],\n",
       "        [30, 21, 15, 20, 13, 30, 16,  1],\n",
       "        [ 1, 61, 46, 53,  1, 41, 39, 56]])"
      ]
     },
     "execution_count": 18,
     "metadata": {},
     "output_type": "execute_result"
    }
   ],
   "source": [
    "data = train_data\n",
    "x_index = torch.randint(len(data) - block_size, (batch_size,))\n",
    "len(x_index)\n",
    "x_index\n",
    "x = torch.stack([data[i : i+block_size] for i in x_index])\n",
    "x\n"
   ]
  },
  {
   "cell_type": "code",
   "execution_count": null,
   "metadata": {},
   "outputs": [],
   "source": []
  }
 ],
 "metadata": {
  "kernelspec": {
   "display_name": "model",
   "language": "python",
   "name": "python3"
  },
  "language_info": {
   "codemirror_mode": {
    "name": "ipython",
    "version": 3
   },
   "file_extension": ".py",
   "mimetype": "text/x-python",
   "name": "python",
   "nbconvert_exporter": "python",
   "pygments_lexer": "ipython3",
   "version": "3.9.18"
  }
 },
 "nbformat": 4,
 "nbformat_minor": 2
}
